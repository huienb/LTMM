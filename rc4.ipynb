{
 "cells": [
  {
   "cell_type": "code",
   "execution_count": 12,
   "id": "fe804118",
   "metadata": {},
   "outputs": [],
   "source": [
    "import math\n",
    "import numpy as np\n",
    "\n",
    "def swap(arr,index1, index2):\n",
    "    temp = arr[index1]\n",
    "    arr[index1] = arr[index2]\n",
    "    arr[index2] = temp\n",
    "\n",
    "class RC4:\n",
    "    \n",
    "    def __init__(self, plainText, key):\n",
    "        self.plainText = plainText\n",
    "        self.key = key\n",
    "        self.initSArr = np.arange(0,256)\n",
    "        self.tempArr = self.initTempArr()  \n",
    "        \n",
    "    def initTempArr(self):\n",
    "        repeatTimes = math.floor(len(self.initSArr)/len(self.key))\n",
    "        restKeyLen = len(self.initSArr) - len(self.key) * repeatTimes\n",
    "        resultTempArr = (self.key*repeatTimes) + (self.key[:restKeyLen])\n",
    "        return resultTempArr\n",
    "    \n",
    "    def KSA(self):\n",
    "        j = 0\n",
    "        self.ksaArr = self.initSArr.copy()\n",
    "        for i in range(0,256):\n",
    "            j = (j + ord(self.tempArr[i]) + self.initSArr[i])%256\n",
    "            swap(self.ksaArr, i, j)\n",
    "        \n",
    "    def PRGA(self):\n",
    "        i, j =0,0\n",
    "        self.keyStream = []\n",
    "        for m in range(1, len(self.plainText)+1):\n",
    "            i = (i+1)%256     \n",
    "            j = (j + self.ksaArr[i])%256\n",
    "            swap(self.ksaArr,i, j)\n",
    "            self.keyStream.append(self.ksaArr[(self.ksaArr[i]+self.ksaArr[j])%256])\n",
    "\n",
    "            \n",
    "       \n",
    "    def encrypt(self):\n",
    "        result = \"\"\n",
    "        arr = []\n",
    "        self.KSA()\n",
    "        self.PRGA()\n",
    "        for i in range(len(self.plainText)):\n",
    "            arr.append(ord(self.plainText[i])^self.keyStream[i])\n",
    "            result += chr(ord(self.plainText[i])^self.keyStream[i])\n",
    "        return (result, arr);\n",
    "        \n",
    "\n",
    "    def decrypt(self, cipherText):\n",
    "        result = \"\"\n",
    "        for i in range(len(cipherText)):\n",
    "            result += chr(self.keyStream[i]^cipherText[i])\n",
    "        return result"
   ]
  },
  {
   "cell_type": "code",
   "execution_count": 13,
   "id": "8a107798",
   "metadata": {},
   "outputs": [],
   "source": [
    "myRC4 = RC4(input(\"Type in plain text\"), 'HOANG MINH SON')"
   ]
  },
  {
   "cell_type": "code",
   "execution_count": 14,
   "id": "a99b31c9",
   "metadata": {},
   "outputs": [
    {
     "name": "stdout",
     "output_type": "stream",
     "text": [
      "cipher text: ½Ê\u0018åfF^Ñî\u0016\u0014ä»xàuß¾I ´ÕµöÉËº{ṼÅÃÉ\u0016\u0002Jv\u0016ùF·¥Qü:ê\u000f0l©ĺh\n"
     ]
    }
   ],
   "source": [
    "(cipherText, cipherArr) = myRC4.encrypt()\n",
    "print(f\"cipher text: {cipherText}\")"
   ]
  },
  {
   "cell_type": "code",
   "execution_count": 15,
   "id": "666c80c1",
   "metadata": {},
   "outputs": [
    {
     "name": "stdout",
     "output_type": "stream",
     "text": [
      "decrypt result: Toi la Hoang Mih son, Hê lô các bạn tôi là hoàng minh sơn\n"
     ]
    }
   ],
   "source": [
    "decryptTxt = myRC4.decrypt(cipherArr)\n",
    "print(f\"decrypt result: {decryptTxt}\")"
   ]
  }
 ],
 "metadata": {
  "interpreter": {
   "hash": "c2fce2166ecf35e10e9706810c05663b0d742ad8d6d30f48ef9e954a1f466467"
  },
  "kernelspec": {
   "display_name": "Python 3.9.6 64-bit",
   "language": "python",
   "name": "python3"
  },
  "language_info": {
   "codemirror_mode": {
    "name": "ipython",
    "version": 3
   },
   "file_extension": ".py",
   "mimetype": "text/x-python",
   "name": "python",
   "nbconvert_exporter": "python",
   "pygments_lexer": "ipython3",
   "version": "3.9.6"
  }
 },
 "nbformat": 4,
 "nbformat_minor": 5
}
